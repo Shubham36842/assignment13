{
 "cells": [
  {
   "cell_type": "raw",
   "id": "a5a1922c-e284-41f5-baf6-724ac83c245d",
   "metadata": {},
   "source": [
    "Q1. What is the difference between Ordinal Encoding and Label Encoding? Provide an example of when you might choose one over the other.\n"
   ]
  },
  {
   "cell_type": "raw",
   "id": "2df1ffef-daca-4e06-9039-a4cdf0bd5a47",
   "metadata": {},
   "source": [
    "Ans:-This encoding technique appears almost similar to Label Encoding. But, label encoding          would not consider whether a variable is ordinal or not, but in the case of ordinal            encoding, it will assign a sequence of numerical values as per the order of data.\n",
    "\n",
    "      For example, if one feature contains - {low, medium, high}, it can be converted into           {1,2,3}, where 1 represents low, 2 represents medium, and 3 represents high.This is           ordinal encoding."
   ]
  },
  {
   "cell_type": "raw",
   "id": "d7c74465-25de-4212-942c-2715e889c234",
   "metadata": {},
   "source": [
    "Q2. Explain how Target Guided Ordinal Encoding works and provide an example of when you might use it in a machine learning project.\n"
   ]
  },
  {
   "cell_type": "raw",
   "id": "ed48492f-feb9-4006-b813-c3ed36aeca5c",
   "metadata": {},
   "source": [
    "Ans:-In this technique we will take help of our target variable to encode the categorical data\n",
    "     Target-guided ordinal encoding is a technique used to encode categorical variables for        machine learning models. This encoding technique is particularly useful when the target        variable is ordinal, meaning that it has a natural order, such as low, medium, and high.\n",
    "\n",
    "     Target-guided ordinal encoding involves replacing the categories in the categorical            variable with ordinal numbers that are based on the relationship between the category and      the target variable. The encoding process involves sorting the categories based on the        mean of the target variable for each category and then assigning a numerical value to          each category based on its rank.\n",
    "     \n",
    "     Example of how target-guided ordinal encoding can be applied:\n",
    "\n",
    "     Let’s say we have a dataset that contains information about employees at a company. One        of the variables in the dataset is “job level”, which is a categorical variable with four      categories: junior, intermediate, senior, and executive. The target variable in this case      is the employee’s salary.\n",
    "\n",
    "     To encode the “job level” variable using target-guided ordinal encoding, we would first c \n",
    "     Junior: $40,000\n",
    "     Intermediate: $60,000\n",
    "     Senior: $80,000\n",
    "     Executive: $120,000\n",
    "     Next, we would sort the job levels based on their mean salaries, from lowest to highest.      Then, we would assign ordinal numbers to each job level based on their rank:\n",
    "\n",
    "    Junior: 1\n",
    "    Intermediate: 2\n",
    "    Senior: 3\n",
    "    Executive: 4\n",
    "    Now, we have encoded the “job level” variable using target-guided ordinal encoding, and we     can use these ordinal numbers as input features in a machine learning model to predict         employee salaries. This encoding technique takes into account the relationship between the     job level categories and the target variable, which can help improve the accuracy of the       model."
   ]
  },
  {
   "cell_type": "raw",
   "id": "2f0cb4cf-4f68-4416-bd14-d3784ae4fccb",
   "metadata": {},
   "source": [
    "Q3. Define covariance and explain why it is important in statistical analysis. How is covariance calculated?\n"
   ]
  },
  {
   "cell_type": "raw",
   "id": "26b43134-6347-4b82-ac1c-f398cb048e45",
   "metadata": {},
   "source": [
    "Ans:-\n",
    "Covariance is a statistical tool investors use to measure the relationship between the movement of two asset prices. A positive covariance means asset prices are moving in the same general direction. A negative covariance means asset prices are moving in opposite directions.\n",
    "\n",
    "Covariance is calculated by analyzing at-return surprises (standard deviations from the expected return) or multiplying the correlation between the two random variables by the standard deviation of each variable.\n",
    "\n",
    "The covariance between X and Y is defined as Cov(X,Y)=E[(X−EX)(Y−EY)]=E[XY]−(EX)(EY).\n",
    "cov(x,y)=E[(x-x`)(y-y`)]/N-1"
   ]
  },
  {
   "cell_type": "raw",
   "id": "bf0067be-8565-4495-b2bc-0135f8936dc9",
   "metadata": {},
   "source": [
    "Q4. For a dataset with the following categorical variables: Color (red, green, blue), Size (small, medium,large), and Material (wood, metal, plastic), perform label encoding using Python's scikit-learn library.\n",
    "Show your code and explain the output.\n"
   ]
  },
  {
   "cell_type": "code",
   "execution_count": 1,
   "id": "55610385-9796-4692-ba88-569f97377959",
   "metadata": {},
   "outputs": [],
   "source": [
    "# creating dataframe to perform Label encoding\n",
    "import pandas as pd\n",
    "data={'color':[\"red\",\"green\",\"blue\"],\n",
    "     'size':[\"small\",\"medium\",\"large\"],\n",
    "     'material':[\"wood\",\"metal\",\"Plastic\"]}\n",
    "df=pd.DataFrame(data)"
   ]
  },
  {
   "cell_type": "code",
   "execution_count": 2,
   "id": "f3b94475-5f1b-4600-a032-727339c09c82",
   "metadata": {},
   "outputs": [
    {
     "data": {
      "text/html": [
       "<div>\n",
       "<style scoped>\n",
       "    .dataframe tbody tr th:only-of-type {\n",
       "        vertical-align: middle;\n",
       "    }\n",
       "\n",
       "    .dataframe tbody tr th {\n",
       "        vertical-align: top;\n",
       "    }\n",
       "\n",
       "    .dataframe thead th {\n",
       "        text-align: right;\n",
       "    }\n",
       "</style>\n",
       "<table border=\"1\" class=\"dataframe\">\n",
       "  <thead>\n",
       "    <tr style=\"text-align: right;\">\n",
       "      <th></th>\n",
       "      <th>color</th>\n",
       "      <th>size</th>\n",
       "      <th>material</th>\n",
       "    </tr>\n",
       "  </thead>\n",
       "  <tbody>\n",
       "    <tr>\n",
       "      <th>0</th>\n",
       "      <td>red</td>\n",
       "      <td>small</td>\n",
       "      <td>wood</td>\n",
       "    </tr>\n",
       "    <tr>\n",
       "      <th>1</th>\n",
       "      <td>green</td>\n",
       "      <td>medium</td>\n",
       "      <td>metal</td>\n",
       "    </tr>\n",
       "    <tr>\n",
       "      <th>2</th>\n",
       "      <td>blue</td>\n",
       "      <td>large</td>\n",
       "      <td>Plastic</td>\n",
       "    </tr>\n",
       "  </tbody>\n",
       "</table>\n",
       "</div>"
      ],
      "text/plain": [
       "   color    size material\n",
       "0    red   small     wood\n",
       "1  green  medium    metal\n",
       "2   blue   large  Plastic"
      ]
     },
     "execution_count": 2,
     "metadata": {},
     "output_type": "execute_result"
    }
   ],
   "source": [
    "df"
   ]
  },
  {
   "cell_type": "code",
   "execution_count": 14,
   "id": "ea75a562-2a65-4d7c-9465-9b0bcae1d575",
   "metadata": {},
   "outputs": [],
   "source": [
    "# applying Label encoder to the created dataframe\n",
    "from sklearn import preprocessing\n",
    "le = preprocessing.LabelEncoder()\n",
    "arr1=le.fit_transform(df['color'])\n",
    "arr2=le.fit_transform(df['size'])\n",
    "arr3=le.fit_transform(df['material'])"
   ]
  },
  {
   "cell_type": "code",
   "execution_count": 15,
   "id": "c7e66a83-1f2c-40e4-9433-ff0e8c9c7997",
   "metadata": {},
   "outputs": [],
   "source": [
    "# create a new dataframe using output of Label encoder\n",
    "data={'color_label':arr1,\n",
    "     'size_label':arr2,\n",
    "     'material_label':arr3}\n",
    "df1=pd.DataFrame(data)"
   ]
  },
  {
   "cell_type": "code",
   "execution_count": 16,
   "id": "cc880935-7cad-4c51-90bf-7f468da14eb4",
   "metadata": {},
   "outputs": [
    {
     "data": {
      "text/html": [
       "<div>\n",
       "<style scoped>\n",
       "    .dataframe tbody tr th:only-of-type {\n",
       "        vertical-align: middle;\n",
       "    }\n",
       "\n",
       "    .dataframe tbody tr th {\n",
       "        vertical-align: top;\n",
       "    }\n",
       "\n",
       "    .dataframe thead th {\n",
       "        text-align: right;\n",
       "    }\n",
       "</style>\n",
       "<table border=\"1\" class=\"dataframe\">\n",
       "  <thead>\n",
       "    <tr style=\"text-align: right;\">\n",
       "      <th></th>\n",
       "      <th>color_label</th>\n",
       "      <th>size_label</th>\n",
       "      <th>material_label</th>\n",
       "    </tr>\n",
       "  </thead>\n",
       "  <tbody>\n",
       "    <tr>\n",
       "      <th>0</th>\n",
       "      <td>2</td>\n",
       "      <td>2</td>\n",
       "      <td>2</td>\n",
       "    </tr>\n",
       "    <tr>\n",
       "      <th>1</th>\n",
       "      <td>1</td>\n",
       "      <td>1</td>\n",
       "      <td>1</td>\n",
       "    </tr>\n",
       "    <tr>\n",
       "      <th>2</th>\n",
       "      <td>0</td>\n",
       "      <td>0</td>\n",
       "      <td>0</td>\n",
       "    </tr>\n",
       "  </tbody>\n",
       "</table>\n",
       "</div>"
      ],
      "text/plain": [
       "   color_label  size_label  material_label\n",
       "0            2           2               2\n",
       "1            1           1               1\n",
       "2            0           0               0"
      ]
     },
     "execution_count": 16,
     "metadata": {},
     "output_type": "execute_result"
    }
   ],
   "source": [
    "df1"
   ]
  },
  {
   "cell_type": "code",
   "execution_count": 17,
   "id": "6bac2cbc-91fe-4b3d-8a85-72552f85e3f3",
   "metadata": {},
   "outputs": [
    {
     "data": {
      "text/html": [
       "<div>\n",
       "<style scoped>\n",
       "    .dataframe tbody tr th:only-of-type {\n",
       "        vertical-align: middle;\n",
       "    }\n",
       "\n",
       "    .dataframe tbody tr th {\n",
       "        vertical-align: top;\n",
       "    }\n",
       "\n",
       "    .dataframe thead th {\n",
       "        text-align: right;\n",
       "    }\n",
       "</style>\n",
       "<table border=\"1\" class=\"dataframe\">\n",
       "  <thead>\n",
       "    <tr style=\"text-align: right;\">\n",
       "      <th></th>\n",
       "      <th>color</th>\n",
       "      <th>size</th>\n",
       "      <th>material</th>\n",
       "      <th>color_label</th>\n",
       "      <th>size_label</th>\n",
       "      <th>material_label</th>\n",
       "    </tr>\n",
       "  </thead>\n",
       "  <tbody>\n",
       "    <tr>\n",
       "      <th>0</th>\n",
       "      <td>red</td>\n",
       "      <td>small</td>\n",
       "      <td>wood</td>\n",
       "      <td>2</td>\n",
       "      <td>2</td>\n",
       "      <td>2</td>\n",
       "    </tr>\n",
       "    <tr>\n",
       "      <th>1</th>\n",
       "      <td>green</td>\n",
       "      <td>medium</td>\n",
       "      <td>metal</td>\n",
       "      <td>1</td>\n",
       "      <td>1</td>\n",
       "      <td>1</td>\n",
       "    </tr>\n",
       "    <tr>\n",
       "      <th>2</th>\n",
       "      <td>blue</td>\n",
       "      <td>large</td>\n",
       "      <td>Plastic</td>\n",
       "      <td>0</td>\n",
       "      <td>0</td>\n",
       "      <td>0</td>\n",
       "    </tr>\n",
       "  </tbody>\n",
       "</table>\n",
       "</div>"
      ],
      "text/plain": [
       "   color    size material  color_label  size_label  material_label\n",
       "0    red   small     wood            2           2               2\n",
       "1  green  medium    metal            1           1               1\n",
       "2   blue   large  Plastic            0           0               0"
      ]
     },
     "execution_count": 17,
     "metadata": {},
     "output_type": "execute_result"
    }
   ],
   "source": [
    "# merging both dataframe\n",
    "pd.concat([df,df1],axis=1)"
   ]
  },
  {
   "cell_type": "raw",
   "id": "90b6df4f-d08d-4f09-9026-577ee0170955",
   "metadata": {},
   "source": [
    "Q5. Calculate the covariance matrix for the following variables in a dataset: Age, Income, and Education level. Interpret the results.\n"
   ]
  },
  {
   "cell_type": "code",
   "execution_count": 20,
   "id": "ba34bf1d-eb22-42b9-834b-fc04f7a5924f",
   "metadata": {},
   "outputs": [
    {
     "data": {
      "text/html": [
       "<div>\n",
       "<style scoped>\n",
       "    .dataframe tbody tr th:only-of-type {\n",
       "        vertical-align: middle;\n",
       "    }\n",
       "\n",
       "    .dataframe tbody tr th {\n",
       "        vertical-align: top;\n",
       "    }\n",
       "\n",
       "    .dataframe thead th {\n",
       "        text-align: right;\n",
       "    }\n",
       "</style>\n",
       "<table border=\"1\" class=\"dataframe\">\n",
       "  <thead>\n",
       "    <tr style=\"text-align: right;\">\n",
       "      <th></th>\n",
       "      <th>Age</th>\n",
       "      <th>Income</th>\n",
       "      <th>Education_level</th>\n",
       "    </tr>\n",
       "  </thead>\n",
       "  <tbody>\n",
       "    <tr>\n",
       "      <th>0</th>\n",
       "      <td>25</td>\n",
       "      <td>50000</td>\n",
       "      <td>B.tech</td>\n",
       "    </tr>\n",
       "    <tr>\n",
       "      <th>1</th>\n",
       "      <td>30</td>\n",
       "      <td>100000</td>\n",
       "      <td>M.tech</td>\n",
       "    </tr>\n",
       "    <tr>\n",
       "      <th>2</th>\n",
       "      <td>26</td>\n",
       "      <td>120000</td>\n",
       "      <td>P.hd</td>\n",
       "    </tr>\n",
       "    <tr>\n",
       "      <th>3</th>\n",
       "      <td>45</td>\n",
       "      <td>50000</td>\n",
       "      <td>B.tech</td>\n",
       "    </tr>\n",
       "    <tr>\n",
       "      <th>4</th>\n",
       "      <td>30</td>\n",
       "      <td>1000000</td>\n",
       "      <td>M.tech</td>\n",
       "    </tr>\n",
       "  </tbody>\n",
       "</table>\n",
       "</div>"
      ],
      "text/plain": [
       "   Age   Income Education_level\n",
       "0   25    50000          B.tech\n",
       "1   30   100000          M.tech\n",
       "2   26   120000            P.hd\n",
       "3   45    50000          B.tech\n",
       "4   30  1000000          M.tech"
      ]
     },
     "execution_count": 20,
     "metadata": {},
     "output_type": "execute_result"
    }
   ],
   "source": [
    "import pandas as pd\n",
    "data={'Age':[25,30,26,45,30],\n",
    "     'Income':[50000,100000,120000,50000,1000000],\n",
    "     'Education_level':['B.tech','M.tech','P.hd','B.tech','M.tech']}\n",
    "df=pd.DataFrame(data)\n",
    "df"
   ]
  },
  {
   "cell_type": "code",
   "execution_count": 28,
   "id": "c51cc372-dcf2-42c6-ad8d-98e85ab85277",
   "metadata": {},
   "outputs": [
    {
     "data": {
      "text/html": [
       "<div>\n",
       "<style scoped>\n",
       "    .dataframe tbody tr th:only-of-type {\n",
       "        vertical-align: middle;\n",
       "    }\n",
       "\n",
       "    .dataframe tbody tr th {\n",
       "        vertical-align: top;\n",
       "    }\n",
       "\n",
       "    .dataframe thead th {\n",
       "        text-align: right;\n",
       "    }\n",
       "</style>\n",
       "<table border=\"1\" class=\"dataframe\">\n",
       "  <thead>\n",
       "    <tr style=\"text-align: right;\">\n",
       "      <th></th>\n",
       "      <th>Age</th>\n",
       "      <th>Income</th>\n",
       "    </tr>\n",
       "  </thead>\n",
       "  <tbody>\n",
       "    <tr>\n",
       "      <th>Age</th>\n",
       "      <td>64.7</td>\n",
       "      <td>-3.910000e+05</td>\n",
       "    </tr>\n",
       "    <tr>\n",
       "      <th>Income</th>\n",
       "      <td>-391000.0</td>\n",
       "      <td>1.702300e+11</td>\n",
       "    </tr>\n",
       "  </tbody>\n",
       "</table>\n",
       "</div>"
      ],
      "text/plain": [
       "             Age        Income\n",
       "Age         64.7 -3.910000e+05\n",
       "Income -391000.0  1.702300e+11"
      ]
     },
     "execution_count": 28,
     "metadata": {},
     "output_type": "execute_result"
    }
   ],
   "source": [
    "df[['Age','Income']].cov()"
   ]
  },
  {
   "cell_type": "raw",
   "id": "589c8494-dc34-4b56-8e0c-e48d4f1bcc73",
   "metadata": {},
   "source": [
    "There is no elation exist between age and salary"
   ]
  },
  {
   "cell_type": "raw",
   "id": "4d362e92-8bc6-4919-97c4-067e3000b368",
   "metadata": {},
   "source": [
    "Q6. You are working on a machine learning project with a dataset containing several categorical variables, including \"Gender\" (Male/Female), \"Education Level\" (High School/Bachelor's/Master's/PhD), and \"Employment Status\" (Unemployed/Part-Time/Full-Time). Which encoding method would you use for each variable, and why?\n"
   ]
  },
  {
   "cell_type": "raw",
   "id": "c8e10d9a-02c2-4b41-8460-70ad39f42fdc",
   "metadata": {},
   "source": [
    "Ans:-Gender is a nominal variable so we can go fo nominal encoding for it\n",
    "     Education is a ordinal variable so opt for ordinal encoding for it\n",
    "     Emplyement Status is also ordinal "
   ]
  },
  {
   "cell_type": "raw",
   "id": "7c7c609b-4a65-4285-818a-23276502bd8d",
   "metadata": {},
   "source": [
    "Q7. You are analyzing a dataset with two continuous variables, \"Temperature\" and \"Humidity\", and two categorical variables, \"Weather Condition\" (Sunny/Cloudy/Rainy) and \"Wind Direction\" (North/South/ East/West). Calculate the covariance between each pair of variables and interpret the results."
   ]
  },
  {
   "cell_type": "code",
   "execution_count": 33,
   "id": "11b7206c-cc09-4ca5-b191-8d74288a439c",
   "metadata": {},
   "outputs": [
    {
     "data": {
      "text/html": [
       "<div>\n",
       "<style scoped>\n",
       "    .dataframe tbody tr th:only-of-type {\n",
       "        vertical-align: middle;\n",
       "    }\n",
       "\n",
       "    .dataframe tbody tr th {\n",
       "        vertical-align: top;\n",
       "    }\n",
       "\n",
       "    .dataframe thead th {\n",
       "        text-align: right;\n",
       "    }\n",
       "</style>\n",
       "<table border=\"1\" class=\"dataframe\">\n",
       "  <thead>\n",
       "    <tr style=\"text-align: right;\">\n",
       "      <th></th>\n",
       "      <th>Temperature</th>\n",
       "      <th>Humidity</th>\n",
       "      <th>Weather_condition</th>\n",
       "      <th>Wind_Direction</th>\n",
       "    </tr>\n",
       "  </thead>\n",
       "  <tbody>\n",
       "    <tr>\n",
       "      <th>0</th>\n",
       "      <td>25</td>\n",
       "      <td>71</td>\n",
       "      <td>Sunny</td>\n",
       "      <td>north</td>\n",
       "    </tr>\n",
       "    <tr>\n",
       "      <th>1</th>\n",
       "      <td>45</td>\n",
       "      <td>80</td>\n",
       "      <td>cloudy</td>\n",
       "      <td>east</td>\n",
       "    </tr>\n",
       "    <tr>\n",
       "      <th>2</th>\n",
       "      <td>35</td>\n",
       "      <td>60</td>\n",
       "      <td>Rainy</td>\n",
       "      <td>west</td>\n",
       "    </tr>\n",
       "  </tbody>\n",
       "</table>\n",
       "</div>"
      ],
      "text/plain": [
       "   Temperature  Humidity Weather_condition Wind_Direction\n",
       "0           25        71             Sunny          north\n",
       "1           45        80            cloudy           east\n",
       "2           35        60             Rainy           west"
      ]
     },
     "execution_count": 33,
     "metadata": {},
     "output_type": "execute_result"
    }
   ],
   "source": [
    "import pandas as pd\n",
    "data={'Temperature':[25,45,35],\n",
    "     'Humidity':[71,80,60],\n",
    "     'Weather_condition':['Sunny','cloudy','Rainy'],\n",
    "     'Wind_Direction':['north','east','west']}\n",
    "df=pd.DataFrame(data)\n",
    "df"
   ]
  },
  {
   "cell_type": "code",
   "execution_count": 37,
   "id": "cc7e239c-4000-49ee-9fa3-17cc387b144f",
   "metadata": {},
   "outputs": [],
   "source": [
    "from sklearn.preprocessing import OneHotEncoder\n",
    "encoder=OneHotEncoder()\n",
    "ary=encoder.fit_transform(df[['Weather_condition','Wind_Direction']]).toarray()"
   ]
  },
  {
   "cell_type": "code",
   "execution_count": 38,
   "id": "ad4804f2-bf30-4c82-a09c-f4741e91760d",
   "metadata": {},
   "outputs": [
    {
     "data": {
      "text/plain": [
       "array([[0., 1., 0., 0., 1., 0.],\n",
       "       [0., 0., 1., 1., 0., 0.],\n",
       "       [1., 0., 0., 0., 0., 1.]])"
      ]
     },
     "execution_count": 38,
     "metadata": {},
     "output_type": "execute_result"
    }
   ],
   "source": [
    "ary"
   ]
  },
  {
   "cell_type": "code",
   "execution_count": 39,
   "id": "ee29f195-8d4b-4a1f-9a0d-3e7c3595c2fc",
   "metadata": {},
   "outputs": [],
   "source": [
    "df1=pd.DataFrame(ary,columns=encoder.get_feature_names_out())"
   ]
  },
  {
   "cell_type": "code",
   "execution_count": 40,
   "id": "8b48e59d-2d51-4297-a0a8-91d688a98c9c",
   "metadata": {},
   "outputs": [
    {
     "data": {
      "text/html": [
       "<div>\n",
       "<style scoped>\n",
       "    .dataframe tbody tr th:only-of-type {\n",
       "        vertical-align: middle;\n",
       "    }\n",
       "\n",
       "    .dataframe tbody tr th {\n",
       "        vertical-align: top;\n",
       "    }\n",
       "\n",
       "    .dataframe thead th {\n",
       "        text-align: right;\n",
       "    }\n",
       "</style>\n",
       "<table border=\"1\" class=\"dataframe\">\n",
       "  <thead>\n",
       "    <tr style=\"text-align: right;\">\n",
       "      <th></th>\n",
       "      <th>Weather_condition_Rainy</th>\n",
       "      <th>Weather_condition_Sunny</th>\n",
       "      <th>Weather_condition_cloudy</th>\n",
       "      <th>Wind_Direction_east</th>\n",
       "      <th>Wind_Direction_north</th>\n",
       "      <th>Wind_Direction_west</th>\n",
       "    </tr>\n",
       "  </thead>\n",
       "  <tbody>\n",
       "    <tr>\n",
       "      <th>0</th>\n",
       "      <td>0.0</td>\n",
       "      <td>1.0</td>\n",
       "      <td>0.0</td>\n",
       "      <td>0.0</td>\n",
       "      <td>1.0</td>\n",
       "      <td>0.0</td>\n",
       "    </tr>\n",
       "    <tr>\n",
       "      <th>1</th>\n",
       "      <td>0.0</td>\n",
       "      <td>0.0</td>\n",
       "      <td>1.0</td>\n",
       "      <td>1.0</td>\n",
       "      <td>0.0</td>\n",
       "      <td>0.0</td>\n",
       "    </tr>\n",
       "    <tr>\n",
       "      <th>2</th>\n",
       "      <td>1.0</td>\n",
       "      <td>0.0</td>\n",
       "      <td>0.0</td>\n",
       "      <td>0.0</td>\n",
       "      <td>0.0</td>\n",
       "      <td>1.0</td>\n",
       "    </tr>\n",
       "  </tbody>\n",
       "</table>\n",
       "</div>"
      ],
      "text/plain": [
       "   Weather_condition_Rainy  Weather_condition_Sunny  Weather_condition_cloudy  \\\n",
       "0                      0.0                      1.0                       0.0   \n",
       "1                      0.0                      0.0                       1.0   \n",
       "2                      1.0                      0.0                       0.0   \n",
       "\n",
       "   Wind_Direction_east  Wind_Direction_north  Wind_Direction_west  \n",
       "0                  0.0                   1.0                  0.0  \n",
       "1                  1.0                   0.0                  0.0  \n",
       "2                  0.0                   0.0                  1.0  "
      ]
     },
     "execution_count": 40,
     "metadata": {},
     "output_type": "execute_result"
    }
   ],
   "source": [
    "df1"
   ]
  },
  {
   "cell_type": "code",
   "execution_count": 43,
   "id": "c7657514-05f4-43fc-8e0a-2d6fac366a18",
   "metadata": {},
   "outputs": [],
   "source": [
    "df3=pd.concat([df,df1],axis=1)"
   ]
  },
  {
   "cell_type": "code",
   "execution_count": 44,
   "id": "d2f8071c-daeb-4123-9199-f14975cae143",
   "metadata": {},
   "outputs": [
    {
     "data": {
      "text/html": [
       "<div>\n",
       "<style scoped>\n",
       "    .dataframe tbody tr th:only-of-type {\n",
       "        vertical-align: middle;\n",
       "    }\n",
       "\n",
       "    .dataframe tbody tr th {\n",
       "        vertical-align: top;\n",
       "    }\n",
       "\n",
       "    .dataframe thead th {\n",
       "        text-align: right;\n",
       "    }\n",
       "</style>\n",
       "<table border=\"1\" class=\"dataframe\">\n",
       "  <thead>\n",
       "    <tr style=\"text-align: right;\">\n",
       "      <th></th>\n",
       "      <th>Temperature</th>\n",
       "      <th>Humidity</th>\n",
       "      <th>Weather_condition</th>\n",
       "      <th>Wind_Direction</th>\n",
       "      <th>Weather_condition_Rainy</th>\n",
       "      <th>Weather_condition_Sunny</th>\n",
       "      <th>Weather_condition_cloudy</th>\n",
       "      <th>Wind_Direction_east</th>\n",
       "      <th>Wind_Direction_north</th>\n",
       "      <th>Wind_Direction_west</th>\n",
       "    </tr>\n",
       "  </thead>\n",
       "  <tbody>\n",
       "    <tr>\n",
       "      <th>0</th>\n",
       "      <td>25</td>\n",
       "      <td>71</td>\n",
       "      <td>Sunny</td>\n",
       "      <td>north</td>\n",
       "      <td>0.0</td>\n",
       "      <td>1.0</td>\n",
       "      <td>0.0</td>\n",
       "      <td>0.0</td>\n",
       "      <td>1.0</td>\n",
       "      <td>0.0</td>\n",
       "    </tr>\n",
       "    <tr>\n",
       "      <th>1</th>\n",
       "      <td>45</td>\n",
       "      <td>80</td>\n",
       "      <td>cloudy</td>\n",
       "      <td>east</td>\n",
       "      <td>0.0</td>\n",
       "      <td>0.0</td>\n",
       "      <td>1.0</td>\n",
       "      <td>1.0</td>\n",
       "      <td>0.0</td>\n",
       "      <td>0.0</td>\n",
       "    </tr>\n",
       "    <tr>\n",
       "      <th>2</th>\n",
       "      <td>35</td>\n",
       "      <td>60</td>\n",
       "      <td>Rainy</td>\n",
       "      <td>west</td>\n",
       "      <td>1.0</td>\n",
       "      <td>0.0</td>\n",
       "      <td>0.0</td>\n",
       "      <td>0.0</td>\n",
       "      <td>0.0</td>\n",
       "      <td>1.0</td>\n",
       "    </tr>\n",
       "  </tbody>\n",
       "</table>\n",
       "</div>"
      ],
      "text/plain": [
       "   Temperature  Humidity Weather_condition Wind_Direction  \\\n",
       "0           25        71             Sunny          north   \n",
       "1           45        80            cloudy           east   \n",
       "2           35        60             Rainy           west   \n",
       "\n",
       "   Weather_condition_Rainy  Weather_condition_Sunny  Weather_condition_cloudy  \\\n",
       "0                      0.0                      1.0                       0.0   \n",
       "1                      0.0                      0.0                       1.0   \n",
       "2                      1.0                      0.0                       0.0   \n",
       "\n",
       "   Wind_Direction_east  Wind_Direction_north  Wind_Direction_west  \n",
       "0                  0.0                   1.0                  0.0  \n",
       "1                  1.0                   0.0                  0.0  \n",
       "2                  0.0                   0.0                  1.0  "
      ]
     },
     "execution_count": 44,
     "metadata": {},
     "output_type": "execute_result"
    }
   ],
   "source": [
    "df3"
   ]
  },
  {
   "cell_type": "code",
   "execution_count": 45,
   "id": "d120479f-1de2-452f-8fa0-90b992561e2a",
   "metadata": {},
   "outputs": [
    {
     "data": {
      "text/html": [
       "<div>\n",
       "<style scoped>\n",
       "    .dataframe tbody tr th:only-of-type {\n",
       "        vertical-align: middle;\n",
       "    }\n",
       "\n",
       "    .dataframe tbody tr th {\n",
       "        vertical-align: top;\n",
       "    }\n",
       "\n",
       "    .dataframe thead th {\n",
       "        text-align: right;\n",
       "    }\n",
       "</style>\n",
       "<table border=\"1\" class=\"dataframe\">\n",
       "  <thead>\n",
       "    <tr style=\"text-align: right;\">\n",
       "      <th></th>\n",
       "      <th>Temperature</th>\n",
       "      <th>Humidity</th>\n",
       "      <th>Weather_condition_Rainy</th>\n",
       "      <th>Wind_Direction_north</th>\n",
       "      <th>Wind_Direction_west</th>\n",
       "    </tr>\n",
       "  </thead>\n",
       "  <tbody>\n",
       "    <tr>\n",
       "      <th>Temperature</th>\n",
       "      <td>1.000000e+02</td>\n",
       "      <td>45.000000</td>\n",
       "      <td>-5.551115e-17</td>\n",
       "      <td>-5.000000</td>\n",
       "      <td>-5.551115e-17</td>\n",
       "    </tr>\n",
       "    <tr>\n",
       "      <th>Humidity</th>\n",
       "      <td>4.500000e+01</td>\n",
       "      <td>100.333333</td>\n",
       "      <td>-5.166667e+00</td>\n",
       "      <td>0.333333</td>\n",
       "      <td>-5.166667e+00</td>\n",
       "    </tr>\n",
       "    <tr>\n",
       "      <th>Weather_condition_Rainy</th>\n",
       "      <td>-5.551115e-17</td>\n",
       "      <td>-5.166667</td>\n",
       "      <td>3.333333e-01</td>\n",
       "      <td>-0.166667</td>\n",
       "      <td>3.333333e-01</td>\n",
       "    </tr>\n",
       "    <tr>\n",
       "      <th>Wind_Direction_north</th>\n",
       "      <td>-5.000000e+00</td>\n",
       "      <td>0.333333</td>\n",
       "      <td>-1.666667e-01</td>\n",
       "      <td>0.333333</td>\n",
       "      <td>-1.666667e-01</td>\n",
       "    </tr>\n",
       "    <tr>\n",
       "      <th>Wind_Direction_west</th>\n",
       "      <td>-5.551115e-17</td>\n",
       "      <td>-5.166667</td>\n",
       "      <td>3.333333e-01</td>\n",
       "      <td>-0.166667</td>\n",
       "      <td>3.333333e-01</td>\n",
       "    </tr>\n",
       "  </tbody>\n",
       "</table>\n",
       "</div>"
      ],
      "text/plain": [
       "                          Temperature    Humidity  Weather_condition_Rainy  \\\n",
       "Temperature              1.000000e+02   45.000000            -5.551115e-17   \n",
       "Humidity                 4.500000e+01  100.333333            -5.166667e+00   \n",
       "Weather_condition_Rainy -5.551115e-17   -5.166667             3.333333e-01   \n",
       "Wind_Direction_north    -5.000000e+00    0.333333            -1.666667e-01   \n",
       "Wind_Direction_west     -5.551115e-17   -5.166667             3.333333e-01   \n",
       "\n",
       "                         Wind_Direction_north  Wind_Direction_west  \n",
       "Temperature                         -5.000000        -5.551115e-17  \n",
       "Humidity                             0.333333        -5.166667e+00  \n",
       "Weather_condition_Rainy             -0.166667         3.333333e-01  \n",
       "Wind_Direction_north                 0.333333        -1.666667e-01  \n",
       "Wind_Direction_west                 -0.166667         3.333333e-01  "
      ]
     },
     "execution_count": 45,
     "metadata": {},
     "output_type": "execute_result"
    }
   ],
   "source": [
    "df3[['Temperature','Humidity','Weather_condition_Rainy','Wind_Direction_north','Wind_Direction_west']].cov()"
   ]
  },
  {
   "cell_type": "code",
   "execution_count": null,
   "id": "fa33848c-ccd0-43a6-b2e2-496b938e266a",
   "metadata": {},
   "outputs": [],
   "source": []
  }
 ],
 "metadata": {
  "kernelspec": {
   "display_name": "Python 3 (ipykernel)",
   "language": "python",
   "name": "python3"
  },
  "language_info": {
   "codemirror_mode": {
    "name": "ipython",
    "version": 3
   },
   "file_extension": ".py",
   "mimetype": "text/x-python",
   "name": "python",
   "nbconvert_exporter": "python",
   "pygments_lexer": "ipython3",
   "version": "3.10.8"
  }
 },
 "nbformat": 4,
 "nbformat_minor": 5
}
