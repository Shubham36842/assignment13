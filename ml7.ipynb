{
 "cells": [
  {
   "cell_type": "raw",
   "id": "9d83a12d-114c-42af-be51-3d0795847018",
   "metadata": {},
   "source": [
    "Q1. Pearson correlation coefficient is a measure of the linear relationship between two variables. Suppose you have collected data on the amount of time students spend studying for an exam and their final exam scores. Calculate the Pearson correlation coefficient between these two variables and interpret the result.\n"
   ]
  },
  {
   "cell_type": "code",
   "execution_count": 4,
   "id": "f9020f9e-23da-4eb6-9cd1-9963141c56f9",
   "metadata": {},
   "outputs": [],
   "source": [
    "import numpy as np\n",
    "time_spend=pd.Series([4,5,4,6,8,6])\n",
    "exam_score=pd.Series([80,70,85,90,86,63])\n"
   ]
  },
  {
   "cell_type": "code",
   "execution_count": 5,
   "id": "efd8f53c-dee5-425e-a1f6-ff7fc6ae8ddd",
   "metadata": {},
   "outputs": [
    {
     "data": {
      "text/plain": [
       "0.11378739092043905"
      ]
     },
     "execution_count": 5,
     "metadata": {},
     "output_type": "execute_result"
    }
   ],
   "source": [
    "time_spend.corr(exam_score,method='pearson')"
   ]
  },
  {
   "cell_type": "raw",
   "id": "dc2cdbe2-965e-489c-b589-3540b3185868",
   "metadata": {},
   "source": [
    "Explanation-vaule is positive hence there exist a positive relationship between time_spend on studies and final marks obtaion"
   ]
  },
  {
   "cell_type": "raw",
   "id": "63d2ddcf-0f0e-4a2f-b387-8d2d5b7a83e6",
   "metadata": {},
   "source": [
    "Q2. Spearman's rank correlation is a measure of the monotonic relationship between two variables. Suppose you have collected data on the amount of sleep individuals get each night and their overall job satisfaction level on a scale of 1 to 10. Calculate the Spearman's rank correlation between these two variables and interpret the result.\n"
   ]
  },
  {
   "cell_type": "code",
   "execution_count": 6,
   "id": "2298afed-56d8-477c-9ca8-eb5c2a3a2618",
   "metadata": {},
   "outputs": [],
   "source": [
    "import pandas as pd\n",
    "sleep_time=pd.Series([5,6,7,8,7,5])\n",
    "job_satisfaction=pd.Series([4,5,6,10,6,4])"
   ]
  },
  {
   "cell_type": "code",
   "execution_count": 8,
   "id": "9c5094ae-8ca6-4476-9dc3-902e037d2225",
   "metadata": {},
   "outputs": [
    {
     "data": {
      "text/plain": [
       "0.9999999999999999"
      ]
     },
     "execution_count": 8,
     "metadata": {},
     "output_type": "execute_result"
    }
   ],
   "source": [
    "sleep_time.corr(job_satisfaction,method='spearman')"
   ]
  },
  {
   "cell_type": "raw",
   "id": "63435499-ecee-4651-a92e-6ac1037b910a",
   "metadata": {},
   "source": [
    "Explanation-Since the value is positive and near to 1 hence a strong positive correlation exist between variables"
   ]
  },
  {
   "cell_type": "raw",
   "id": "41c09981-8e08-44d9-a193-de7b4874d052",
   "metadata": {},
   "source": [
    "Q3. Suppose you are conducting a study to examine the relationship between the number of hours of exercise per week and body mass index (BMI) in a sample of adults. You collected data on both variables for 50 participants. Calculate the Pearson correlation coefficient and the Spearman's rank correlation between these two variables and compare the results.\n"
   ]
  },
  {
   "cell_type": "code",
   "execution_count": 9,
   "id": "44720435-27d6-4bbb-90c8-9a38b6b00c0c",
   "metadata": {},
   "outputs": [],
   "source": [
    "import pandas as pd\n",
    "exercise_hour=pd.Series([7,8,6,5,9])\n",
    "BMI=pd.Series([40,50,55,30,60])"
   ]
  },
  {
   "cell_type": "code",
   "execution_count": 10,
   "id": "63c14e50-ef25-4a55-81b0-bd9902b813a0",
   "metadata": {},
   "outputs": [
    {
     "data": {
      "text/plain": [
       "0.7"
      ]
     },
     "execution_count": 10,
     "metadata": {},
     "output_type": "execute_result"
    }
   ],
   "source": [
    "exercise_hour.corr(BMI,method='spearman')"
   ]
  },
  {
   "cell_type": "code",
   "execution_count": 11,
   "id": "086e7d4f-d2c0-4958-9e39-7dacfcae1592",
   "metadata": {},
   "outputs": [
    {
     "data": {
      "text/plain": [
       "0.7221853807284739"
      ]
     },
     "execution_count": 11,
     "metadata": {},
     "output_type": "execute_result"
    }
   ],
   "source": [
    "exercise_hour.corr(BMI,method='pearson')"
   ]
  },
  {
   "cell_type": "raw",
   "id": "b8173a71-0110-439a-8b05-09c39567c9b6",
   "metadata": {},
   "source": [
    "Explanation-the value of both correlation are positive but pearson have a little greater value"
   ]
  },
  {
   "cell_type": "raw",
   "id": "dd4c24ca-f357-40c2-86fc-4bfae49c93e3",
   "metadata": {},
   "source": [
    "Q4. A researcher is interested in examining the relationship between the number of hours individuals spend watching television per day and their level of physical activity. The researcher collected data on both variables from a sample of 50 participants. Calculate the Pearson correlation coefficient between these two variables.\n"
   ]
  },
  {
   "cell_type": "code",
   "execution_count": 15,
   "id": "3c93d96c-533d-42b3-ba69-e1f9308748dd",
   "metadata": {},
   "outputs": [],
   "source": [
    "import numpy as np\n",
    "telvision=np.random.randint(1,100,50)\n",
    "physical=np.random.randint(1,7,50)"
   ]
  },
  {
   "cell_type": "code",
   "execution_count": 16,
   "id": "203d71cb-ccc6-46ed-aff9-341c4329afdb",
   "metadata": {},
   "outputs": [],
   "source": [
    "import pandas as pd\n",
    "television_hour=pd.Series(telvision)\n",
    "phyactivity_hour=pd.Series(physical)"
   ]
  },
  {
   "cell_type": "code",
   "execution_count": 17,
   "id": "b941df42-0e50-42c4-b962-87af643bb32c",
   "metadata": {},
   "outputs": [
    {
     "data": {
      "text/plain": [
       "0.05534919041672558"
      ]
     },
     "execution_count": 17,
     "metadata": {},
     "output_type": "execute_result"
    }
   ],
   "source": [
    "television_hour.corr(phyactivity_hour,method='pearson')"
   ]
  },
  {
   "cell_type": "raw",
   "id": "75a41088-0bbc-400d-94ee-11dbed9e631c",
   "metadata": {},
   "source": [
    "Explanation-pearson correlation have a postive value hence a positive correlation exist between variables"
   ]
  },
  {
   "cell_type": "raw",
   "id": "30030bb6-db46-45b8-9b39-d321e85a8939",
   "metadata": {},
   "source": [
    "Q5. A survey was conducted to examine the relationship between age and preference for a particular brand of soft drink. The survey results are shown below:"
   ]
  },
  {
   "cell_type": "code",
   "execution_count": 21,
   "id": "a48b7ebe-529f-4660-8a2d-bc5e00c39d98",
   "metadata": {},
   "outputs": [],
   "source": [
    "import pandas as pd\n",
    "data={'Age':[25,42,37,19,31,28],\n",
    "     'Soft_Drink pref':['coke','pepsi','mountain dew','coke','pepsi','coke']}\n",
    "df=pd.DataFrame(data)"
   ]
  },
  {
   "cell_type": "code",
   "execution_count": 22,
   "id": "062d3853-89b1-4810-b72e-db0ed967bf01",
   "metadata": {},
   "outputs": [
    {
     "data": {
      "text/html": [
       "<div>\n",
       "<style scoped>\n",
       "    .dataframe tbody tr th:only-of-type {\n",
       "        vertical-align: middle;\n",
       "    }\n",
       "\n",
       "    .dataframe tbody tr th {\n",
       "        vertical-align: top;\n",
       "    }\n",
       "\n",
       "    .dataframe thead th {\n",
       "        text-align: right;\n",
       "    }\n",
       "</style>\n",
       "<table border=\"1\" class=\"dataframe\">\n",
       "  <thead>\n",
       "    <tr style=\"text-align: right;\">\n",
       "      <th></th>\n",
       "      <th>Age</th>\n",
       "      <th>Soft_Drink pref</th>\n",
       "    </tr>\n",
       "  </thead>\n",
       "  <tbody>\n",
       "    <tr>\n",
       "      <th>0</th>\n",
       "      <td>25</td>\n",
       "      <td>coke</td>\n",
       "    </tr>\n",
       "    <tr>\n",
       "      <th>1</th>\n",
       "      <td>42</td>\n",
       "      <td>pepsi</td>\n",
       "    </tr>\n",
       "    <tr>\n",
       "      <th>2</th>\n",
       "      <td>37</td>\n",
       "      <td>mountain dew</td>\n",
       "    </tr>\n",
       "    <tr>\n",
       "      <th>3</th>\n",
       "      <td>19</td>\n",
       "      <td>coke</td>\n",
       "    </tr>\n",
       "    <tr>\n",
       "      <th>4</th>\n",
       "      <td>31</td>\n",
       "      <td>pepsi</td>\n",
       "    </tr>\n",
       "    <tr>\n",
       "      <th>5</th>\n",
       "      <td>28</td>\n",
       "      <td>coke</td>\n",
       "    </tr>\n",
       "  </tbody>\n",
       "</table>\n",
       "</div>"
      ],
      "text/plain": [
       "   Age Soft_Drink pref\n",
       "0   25            coke\n",
       "1   42           pepsi\n",
       "2   37    mountain dew\n",
       "3   19            coke\n",
       "4   31           pepsi\n",
       "5   28            coke"
      ]
     },
     "execution_count": 22,
     "metadata": {},
     "output_type": "execute_result"
    }
   ],
   "source": [
    "df"
   ]
  },
  {
   "cell_type": "code",
   "execution_count": 25,
   "id": "780489c7-247a-4a7e-8d22-209bf8dcf5a9",
   "metadata": {},
   "outputs": [],
   "source": [
    "from sklearn import preprocessing\n",
    "le = preprocessing.LabelEncoder()\n",
    "df['soft_drink label']=le.fit_transform(df['Soft_Drink pref'])"
   ]
  },
  {
   "cell_type": "code",
   "execution_count": 26,
   "id": "2d165293-63e3-4c90-b645-748e45143877",
   "metadata": {},
   "outputs": [
    {
     "data": {
      "text/html": [
       "<div>\n",
       "<style scoped>\n",
       "    .dataframe tbody tr th:only-of-type {\n",
       "        vertical-align: middle;\n",
       "    }\n",
       "\n",
       "    .dataframe tbody tr th {\n",
       "        vertical-align: top;\n",
       "    }\n",
       "\n",
       "    .dataframe thead th {\n",
       "        text-align: right;\n",
       "    }\n",
       "</style>\n",
       "<table border=\"1\" class=\"dataframe\">\n",
       "  <thead>\n",
       "    <tr style=\"text-align: right;\">\n",
       "      <th></th>\n",
       "      <th>Age</th>\n",
       "      <th>Soft_Drink pref</th>\n",
       "      <th>soft_drink label</th>\n",
       "    </tr>\n",
       "  </thead>\n",
       "  <tbody>\n",
       "    <tr>\n",
       "      <th>0</th>\n",
       "      <td>25</td>\n",
       "      <td>coke</td>\n",
       "      <td>0</td>\n",
       "    </tr>\n",
       "    <tr>\n",
       "      <th>1</th>\n",
       "      <td>42</td>\n",
       "      <td>pepsi</td>\n",
       "      <td>2</td>\n",
       "    </tr>\n",
       "    <tr>\n",
       "      <th>2</th>\n",
       "      <td>37</td>\n",
       "      <td>mountain dew</td>\n",
       "      <td>1</td>\n",
       "    </tr>\n",
       "    <tr>\n",
       "      <th>3</th>\n",
       "      <td>19</td>\n",
       "      <td>coke</td>\n",
       "      <td>0</td>\n",
       "    </tr>\n",
       "    <tr>\n",
       "      <th>4</th>\n",
       "      <td>31</td>\n",
       "      <td>pepsi</td>\n",
       "      <td>2</td>\n",
       "    </tr>\n",
       "    <tr>\n",
       "      <th>5</th>\n",
       "      <td>28</td>\n",
       "      <td>coke</td>\n",
       "      <td>0</td>\n",
       "    </tr>\n",
       "  </tbody>\n",
       "</table>\n",
       "</div>"
      ],
      "text/plain": [
       "   Age Soft_Drink pref  soft_drink label\n",
       "0   25            coke                 0\n",
       "1   42           pepsi                 2\n",
       "2   37    mountain dew                 1\n",
       "3   19            coke                 0\n",
       "4   31           pepsi                 2\n",
       "5   28            coke                 0"
      ]
     },
     "execution_count": 26,
     "metadata": {},
     "output_type": "execute_result"
    }
   ],
   "source": [
    "df"
   ]
  },
  {
   "cell_type": "code",
   "execution_count": 27,
   "id": "e11035a7-0715-4309-8a9a-2e26b21199da",
   "metadata": {},
   "outputs": [
    {
     "data": {
      "text/plain": [
       "0.7691751415594736"
      ]
     },
     "execution_count": 27,
     "metadata": {},
     "output_type": "execute_result"
    }
   ],
   "source": [
    "df['Age'].corr(df['soft_drink label'])"
   ]
  },
  {
   "cell_type": "raw",
   "id": "fca5df4b-d558-47cc-bcbd-c1b81dc4214b",
   "metadata": {},
   "source": [
    "Explanation-A postive correlation exit "
   ]
  },
  {
   "cell_type": "raw",
   "id": "ce51975d-b855-4986-bab6-90495cfb1dff",
   "metadata": {},
   "source": [
    "Q6. A company is interested in examining the relationship between the number of sales calls made per day and the number of sales made per week. The company collected data on both variables from a sample of 30 sales representatives. Calculate the Pearson correlation coefficient between these two variables."
   ]
  },
  {
   "cell_type": "code",
   "execution_count": 28,
   "id": "86c66d11-93ae-448c-99a6-fca668fa6f67",
   "metadata": {},
   "outputs": [],
   "source": [
    "import numpy as np\n",
    "sales_call1=np.random.randint(100,200,30)\n",
    "sales_call2=np.random.randint(700,1000,30)"
   ]
  },
  {
   "cell_type": "code",
   "execution_count": 32,
   "id": "9d43c610-a4d7-4ad2-a4ba-2ae702c93030",
   "metadata": {},
   "outputs": [],
   "source": [
    "import pandas as pd\n",
    "sale_perday=pd.Series(sales_call1)\n",
    "sale_perweek=pd.Series(sales_call2)"
   ]
  },
  {
   "cell_type": "code",
   "execution_count": 33,
   "id": "a0afbe79-3003-4f5a-b3f2-8f6d0c63493c",
   "metadata": {},
   "outputs": [
    {
     "data": {
      "text/plain": [
       "0.12972581724059376"
      ]
     },
     "execution_count": 33,
     "metadata": {},
     "output_type": "execute_result"
    }
   ],
   "source": [
    "sale_perday.corr(sale_perweek,method='pearson')"
   ]
  },
  {
   "cell_type": "raw",
   "id": "74e976de-c8e7-4e2b-a2e5-6e197c232a76",
   "metadata": {},
   "source": [
    "Explanation-Since the value is positive hence positive correlation exist bet"
   ]
  }
 ],
 "metadata": {
  "kernelspec": {
   "display_name": "Python 3 (ipykernel)",
   "language": "python",
   "name": "python3"
  },
  "language_info": {
   "codemirror_mode": {
    "name": "ipython",
    "version": 3
   },
   "file_extension": ".py",
   "mimetype": "text/x-python",
   "name": "python",
   "nbconvert_exporter": "python",
   "pygments_lexer": "ipython3",
   "version": "3.10.8"
  }
 },
 "nbformat": 4,
 "nbformat_minor": 5
}
