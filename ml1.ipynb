{
 "cells": [
  {
   "cell_type": "raw",
   "id": "dcc0ab59-8a30-4255-8cc6-84bd22058b89",
   "metadata": {},
   "source": [
    "Q1: Explain the following with an example:\n",
    "1.Artificial Intelligence\n",
    "2.Machine Learning\n",
    "3.Deep Learning\n"
   ]
  },
  {
   "cell_type": "raw",
   "id": "dab1ce4d-faea-4972-b621-91c7d629e4f7",
   "metadata": {},
   "source": [
    "Ans:-\n",
    "Artificial Intelligence-\n",
    "it is an advance technoloy that is capable of taking their own decision and action based on some analysis.Artificial intelligence (AI) refers to the simulation of human intelligence by software-coded heuristics.The most popular application is OpenAI's ChatGPT. The widespread fascination with ChatGPT made it synonymous with AI in the minds of most consumers.\n",
    "\n",
    "Machine Learning-\n",
    "Machine learning is a branch of artificial intelligence (AI) and computer science which focuses on the use of data and algorithms to imitate the way that humans learn, gradually improving its accuracy.Emails are filtered automatically when we receive any new email, and it is also an example of machine learning.\n",
    "\n",
    "Deep Learning-\n",
    "Deep learning is a subset of machine learning, which is essentially a neural network with three or more layers.Deep learning is a machine learning technique that teaches computers to do what comes naturally to humans: learn by example. Deep learning is a key technology behind driverless cars, enabling them to recognize a stop sign, or to distinguish a pedestrian from a lamppost."
   ]
  },
  {
   "cell_type": "raw",
   "id": "9a2f7b69-b796-41f8-af3e-b91b59ac3983",
   "metadata": {},
   "source": [
    "Q2: What is supervised learning? List some examples of supervised learning.\n"
   ]
  },
  {
   "cell_type": "raw",
   "id": "d2cca452-8581-4cac-b49b-20e26520ebf2",
   "metadata": {},
   "source": [
    "Ans:-Supervised learning ia a type of machine learning that require a teacher or superviser that help it to learn.Supervised learning is when the model is getting trained on a labelled dataset. A labelled dataset is one that has both input and output parameters.\n",
    "Some common examples of supervised learning include spam filters, fraud detection systems, recommendation engines, and image recognition systems."
   ]
  },
  {
   "cell_type": "raw",
   "id": "6e2bdac3-ec4f-4919-b0b0-3ac8e346de0c",
   "metadata": {},
   "source": [
    "Q3: What is unsupervised learning? List some examples of unsupervised learning.\n"
   ]
  },
  {
   "cell_type": "raw",
   "id": "4ae5ef45-7278-45cb-b467-33b17c093170",
   "metadata": {},
   "source": [
    "Ans:-Unsupervised learning is a type of machine learning which do not require any teacher.Basically it formed cluster on the basis shape size and structure . Unsupervised learning, also known as unsupervised machine learning, uses machine learning algorithms to analyze and cluster unlabeled datasets. These algorithms discover hidden patterns or data groupings without the need for human intervention.\n",
    "An example of unsupervised machine learning would be a case where a supermarket wants to increase its revenue."
   ]
  },
  {
   "cell_type": "raw",
   "id": "8e2e3de9-a551-4964-b5bb-9d9f347e016c",
   "metadata": {},
   "source": [
    "Q4: What is the difference between AI, ML, DL, and DS?\n"
   ]
  },
  {
   "cell_type": "raw",
   "id": "57a5d44c-1e6c-48cb-8391-1aadb15bb104",
   "metadata": {},
   "source": [
    "Ans:-\n",
    "AI is the broader family consisting of ML and DL as it’s components.ML is the subset of AI.DL is the subset of ML.\n",
    "AI is a computer algorithm which exhibits intelligence through decision making.\tML is an AI algorithm which allows system to learn from data.\tDL is a ML algorithm that uses deep(more than one layer) neural networks to analyze data and provide output accordingly."
   ]
  },
  {
   "cell_type": "raw",
   "id": "8db210f2-4e17-4afb-b3ec-a585175bfe2e",
   "metadata": {},
   "source": [
    "Q5: What are the main differences between supervised, unsupervised, and semi-supervised learning?\n"
   ]
  },
  {
   "cell_type": "raw",
   "id": "eedb2c95-3091-453c-acbd-ac78b8347994",
   "metadata": {},
   "source": [
    "Ans:-\n",
    "Supervised learning is a problem with labeled data, expecting to develop predictive capability. Unsupervised learning is discovering process, diving into unlabeled data to capture hidden information. Semi-supervised learning is a blend of supervised and unsupervised learning.\n",
    "Accuracy-Highly accurate(supervised) Less accurate(unsupervised)and average(semi-supervised)\n",
    "Supervised learning is also called classification.\tUnsupervised learning is also called clustering."
   ]
  },
  {
   "cell_type": "raw",
   "id": "14c5549a-4e10-47c2-8840-b748c86b9508",
   "metadata": {},
   "source": [
    "Q6: What is train, test and validation split? Explain the importance of each term.\n"
   ]
  },
  {
   "cell_type": "raw",
   "id": "d2279b77-b4ae-47e6-88a9-3025e9dd959d",
   "metadata": {},
   "source": [
    "Ans:-\n",
    "Train data-Set of data used for learning (by the model), that is, to fit the parameters to the machine learning model.Train-Valid-Test split is a technique to evaluate the performance of your machine learning model \n",
    "\n",
    "validate data-Set of data used to provide an unbiased evaluation of a model fitted on the training dataset while tuning model hyperparameters.Also play a role in other forms of model preparation, such as feature selection, threshold cut-off selection.validation procedure that reveals how your model performs on new data.\n",
    "\n",
    "Test data-Set of data used to provide an unbiased evaluation of a final model fitted on the training dataset.The train-test split procedure is used to estimate the performance of machine learning algorithms when they are used to make predictions on data .\n"
   ]
  },
  {
   "cell_type": "raw",
   "id": "97421b0d-5c40-40b3-b8f6-0e37f456e4f2",
   "metadata": {},
   "source": [
    "Q7: How can unsupervised learning be used in anomaly detection?\n"
   ]
  },
  {
   "cell_type": "raw",
   "id": "ba4a8546-c74e-4f85-8bb6-6d1742d8f15f",
   "metadata": {},
   "source": [
    "Ans:-\n",
    "Anomaly detection techniques of unsupervised nature assume that normal data points occur considerably more frequently than anomalous data points. This assumption is used to classify data points that occur less frequently as anomalies. Unsupervised techniques assign each data point a score instead of a label."
   ]
  },
  {
   "cell_type": "raw",
   "id": "c0597dee-e330-42fe-a5b6-b155e6831f3d",
   "metadata": {},
   "source": [
    "Q8: List down some commonly used supervised learning algorithms and unsupervised learning\n",
    "algorithms."
   ]
  },
  {
   "cell_type": "raw",
   "id": "5b76e366-6096-47f7-8dd2-756152f82b2b",
   "metadata": {},
   "source": [
    "Ans:-\n",
    "The most commonly used Supervised Learning algorithms are decision tree, logistic regression, linear regression, support vector machine. \n",
    "The most commonly used Unsupervised Learning algorithms are k-means clustering, hierarchical clustering, and apriori algorithm."
   ]
  }
 ],
 "metadata": {
  "kernelspec": {
   "display_name": "Python 3 (ipykernel)",
   "language": "python",
   "name": "python3"
  },
  "language_info": {
   "codemirror_mode": {
    "name": "ipython",
    "version": 3
   },
   "file_extension": ".py",
   "mimetype": "text/x-python",
   "name": "python",
   "nbconvert_exporter": "python",
   "pygments_lexer": "ipython3",
   "version": "3.10.8"
  }
 },
 "nbformat": 4,
 "nbformat_minor": 5
}
