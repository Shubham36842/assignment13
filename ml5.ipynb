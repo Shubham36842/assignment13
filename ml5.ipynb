{
 "cells": [
  {
   "cell_type": "raw",
   "id": "7f2696ee-ef1e-416d-9c2a-dcfa5b42a992",
   "metadata": {},
   "source": [
    "Q1. What is data encoding? How is it useful in data science?\n"
   ]
  },
  {
   "cell_type": "raw",
   "id": "32d7e1ac-4017-425b-a962-77d6c52b21cf",
   "metadata": {},
   "source": [
    "Ans:-Data encodinfg is used to represent categorical feature in machine learning algorithms.\n",
    "     Encoding or continuization is the transformation of categorical variables to binary or        numerical counterparts. An example is to treat male or female for gender as 1 or 0.            Categorical variables must be encoded in many modeling methods (e.g., linear regression,      SVM, neural networks).\n",
    "     \n",
    "     Machine learning models can only work with numerical values. For this reason, it is            necessary to transform the categorical values of the relevant features into numerical          ones. This process is called feature encoding."
   ]
  },
  {
   "cell_type": "raw",
   "id": "23f2fd47-ddbf-4944-b0d7-dad89c56e40d",
   "metadata": {},
   "source": [
    "Q2. What is nominal encoding? Provide an example of how you would use it in a real-world scenario.\n"
   ]
  },
  {
   "cell_type": "raw",
   "id": "35bbe3b6-3cef-44de-8bc9-e94f4e126be7",
   "metadata": {},
   "source": [
    "Ans:-When we have a feature where variables are just names and there is no order or rank to        this variable's feature. For example: City of person lives in, Gender of person, Marital      Status, etc… In the above example, We do not have any order or rank, or sequence."
   ]
  },
  {
   "cell_type": "raw",
   "id": "82c0c036-232b-41e2-a19e-867af2702daf",
   "metadata": {},
   "source": [
    "Q3. In what situations is nominal encoding preferred over one-hot encoding? Provide a practical example."
   ]
  },
  {
   "cell_type": "raw",
   "id": "28f5bf39-fbc8-42fb-b760-cd51625710e6",
   "metadata": {},
   "source": [
    "Ans:-\n",
    "Nominal Encoding-\n",
    "When we have a feature where variables are just names and there is no order or rank to this variable's feature. For example: City of person lives in, Gender of person, Marital Status, etc… In the above example, We do not have any order or rank, or sequence.\n",
    "\n",
    "One Hot Encoding Examples-\n",
    "In One Hot Encoding, the categorical parameters will prepare separate columns for both Male and Female labels. So, wherever there is a Male, the value will be 1 in the Male column and 0 in the Female column, and vice-versa.\n",
    "\n",
    "When the number of categories in the dataset is quite large. One Hot Encoding should be avoided in this case as it can lead to high memory consumption."
   ]
  },
  {
   "cell_type": "raw",
   "id": "59618820-9d59-48d1-b77a-2f9ac534c91a",
   "metadata": {},
   "source": [
    "Q4. Suppose you have a dataset containing categorical data with 5 unique values. Which encoding technique would you use to transform this data into a format suitable for machine learning algorithms? Explain why you made this choice.\n"
   ]
  },
  {
   "cell_type": "raw",
   "id": "101b9b0b-ca4d-44d3-85d6-d62c7223f1f2",
   "metadata": {},
   "source": [
    "Ans:-Since there is no ranking between values then we would prefer nominal/One Hot Encoding.\n",
    "    there are five unique values hence OHE produe five features on its basis."
   ]
  },
  {
   "cell_type": "raw",
   "id": "ce6c1abe-d156-432a-8eeb-ef1ae2f98a16",
   "metadata": {},
   "source": [
    "Q5. In a machine learning project, you have a dataset with 1000 rows and 5 columns. Two of the columns are categorical, and the remaining three columns are numerical. If you were to use nominal encoding to transform the categorical data, how many new columns would be created? Show your calculations.\n"
   ]
  },
  {
   "cell_type": "raw",
   "id": "59487211-97e9-4c83-9490-b8643aa4c386",
   "metadata": {},
   "source": [
    "Ans:-Given rows=1000, columns=5, \n",
    "        2-categorical column\n",
    "        3-numerical column\n",
    "        \n",
    "      Since a column may contain 1000 unique values we need to create 1000 columns for one           categorical column since there are two categorical column we need to add 2000 columns  \n",
    "        \n",
    "        "
   ]
  },
  {
   "cell_type": "raw",
   "id": "3f003a6d-dca4-4e21-8a8d-4aa05c06f3a2",
   "metadata": {},
   "source": [
    "Q6. You are working with a dataset containing information about different types of animals, including their species, habitat, and diet. Which encoding technique would you use to transform the categorical data into a format suitable for machine learning algorithms? Justify your answer.\n"
   ]
  },
  {
   "cell_type": "raw",
   "id": "b2afb38c-38a1-43b3-a911-393e7173828f",
   "metadata": {},
   "source": [
    "Ans:-Since there is no rank we would prefer one Hot Encoding Technique"
   ]
  },
  {
   "cell_type": "raw",
   "id": "97a0f5ad-bbea-4769-993a-acdb436610c3",
   "metadata": {},
   "source": [
    "Q7.You are working on a project that involves predicting customer churn for a telecommunications company. You have a dataset with 5 features, including the customer's gender, age, contract type, monthly charges, and tenure. Which encoding technique(s) would you use to transform the categorical data into numerical data? Provide a step-by-step explanation of how you would implement the encoding."
   ]
  },
  {
   "cell_type": "code",
   "execution_count": 1,
   "id": "9fc7db12-bf96-465c-8dd6-d0cfd072dd7e",
   "metadata": {},
   "outputs": [],
   "source": [
    "import pandas as pd\n",
    "data={'customer_gender':['male','female','male','male','female'],\n",
    "     'age':[25,30,29,35,45],\n",
    "     'contract_type':['unit','bilateral','unit','implied','unit'],\n",
    "     'monthly_charge':[1200,1350,1100,1450,2400],\n",
    "     'tenure(year)':[1,2,1,2,1]}\n",
    "df=pd.DataFrame(data)"
   ]
  },
  {
   "cell_type": "code",
   "execution_count": 2,
   "id": "df75cfcc-021d-47ae-8d09-e095d3339944",
   "metadata": {},
   "outputs": [
    {
     "data": {
      "text/html": [
       "<div>\n",
       "<style scoped>\n",
       "    .dataframe tbody tr th:only-of-type {\n",
       "        vertical-align: middle;\n",
       "    }\n",
       "\n",
       "    .dataframe tbody tr th {\n",
       "        vertical-align: top;\n",
       "    }\n",
       "\n",
       "    .dataframe thead th {\n",
       "        text-align: right;\n",
       "    }\n",
       "</style>\n",
       "<table border=\"1\" class=\"dataframe\">\n",
       "  <thead>\n",
       "    <tr style=\"text-align: right;\">\n",
       "      <th></th>\n",
       "      <th>customer_gender</th>\n",
       "      <th>age</th>\n",
       "      <th>contract_type</th>\n",
       "      <th>monthly_charge</th>\n",
       "      <th>tenure(year)</th>\n",
       "    </tr>\n",
       "  </thead>\n",
       "  <tbody>\n",
       "    <tr>\n",
       "      <th>0</th>\n",
       "      <td>male</td>\n",
       "      <td>25</td>\n",
       "      <td>unit</td>\n",
       "      <td>1200</td>\n",
       "      <td>1</td>\n",
       "    </tr>\n",
       "    <tr>\n",
       "      <th>1</th>\n",
       "      <td>female</td>\n",
       "      <td>30</td>\n",
       "      <td>bilateral</td>\n",
       "      <td>1350</td>\n",
       "      <td>2</td>\n",
       "    </tr>\n",
       "    <tr>\n",
       "      <th>2</th>\n",
       "      <td>male</td>\n",
       "      <td>29</td>\n",
       "      <td>unit</td>\n",
       "      <td>1100</td>\n",
       "      <td>1</td>\n",
       "    </tr>\n",
       "    <tr>\n",
       "      <th>3</th>\n",
       "      <td>male</td>\n",
       "      <td>35</td>\n",
       "      <td>implied</td>\n",
       "      <td>1450</td>\n",
       "      <td>2</td>\n",
       "    </tr>\n",
       "    <tr>\n",
       "      <th>4</th>\n",
       "      <td>female</td>\n",
       "      <td>45</td>\n",
       "      <td>unit</td>\n",
       "      <td>2400</td>\n",
       "      <td>1</td>\n",
       "    </tr>\n",
       "  </tbody>\n",
       "</table>\n",
       "</div>"
      ],
      "text/plain": [
       "  customer_gender  age contract_type  monthly_charge  tenure(year)\n",
       "0            male   25          unit            1200             1\n",
       "1          female   30     bilateral            1350             2\n",
       "2            male   29          unit            1100             1\n",
       "3            male   35       implied            1450             2\n",
       "4          female   45          unit            2400             1"
      ]
     },
     "execution_count": 2,
     "metadata": {},
     "output_type": "execute_result"
    }
   ],
   "source": [
    "df"
   ]
  },
  {
   "cell_type": "code",
   "execution_count": 7,
   "id": "49e22a04-482b-4ed4-a9d9-a6a80ed225e4",
   "metadata": {},
   "outputs": [],
   "source": [
    "from sklearn.preprocessing import OneHotEncoder\n",
    "encoder=OneHotEncoder()\n",
    "arr=encoder.fit_transform(df[['customer_gender','contract_type']]).toarray()"
   ]
  },
  {
   "cell_type": "code",
   "execution_count": 8,
   "id": "d7eec9bd-4e1b-4764-8f6d-116437ce76cd",
   "metadata": {},
   "outputs": [
    {
     "data": {
      "text/plain": [
       "array([[0., 1., 0., 0., 1.],\n",
       "       [1., 0., 1., 0., 0.],\n",
       "       [0., 1., 0., 0., 1.],\n",
       "       [0., 1., 0., 1., 0.],\n",
       "       [1., 0., 0., 0., 1.]])"
      ]
     },
     "execution_count": 8,
     "metadata": {},
     "output_type": "execute_result"
    }
   ],
   "source": [
    "arr"
   ]
  },
  {
   "cell_type": "code",
   "execution_count": 9,
   "id": "f5577bcf-f64e-4a30-9b92-1c12236a44c8",
   "metadata": {},
   "outputs": [],
   "source": [
    "df2=pd.DataFrame(arr,columns=encoder.get_feature_names_out())"
   ]
  },
  {
   "cell_type": "code",
   "execution_count": 10,
   "id": "24ca43e4-9f90-48a7-9a2b-bd170a00ffbc",
   "metadata": {},
   "outputs": [
    {
     "data": {
      "text/html": [
       "<div>\n",
       "<style scoped>\n",
       "    .dataframe tbody tr th:only-of-type {\n",
       "        vertical-align: middle;\n",
       "    }\n",
       "\n",
       "    .dataframe tbody tr th {\n",
       "        vertical-align: top;\n",
       "    }\n",
       "\n",
       "    .dataframe thead th {\n",
       "        text-align: right;\n",
       "    }\n",
       "</style>\n",
       "<table border=\"1\" class=\"dataframe\">\n",
       "  <thead>\n",
       "    <tr style=\"text-align: right;\">\n",
       "      <th></th>\n",
       "      <th>customer_gender_female</th>\n",
       "      <th>customer_gender_male</th>\n",
       "      <th>contract_type_bilateral</th>\n",
       "      <th>contract_type_implied</th>\n",
       "      <th>contract_type_unit</th>\n",
       "    </tr>\n",
       "  </thead>\n",
       "  <tbody>\n",
       "    <tr>\n",
       "      <th>0</th>\n",
       "      <td>0.0</td>\n",
       "      <td>1.0</td>\n",
       "      <td>0.0</td>\n",
       "      <td>0.0</td>\n",
       "      <td>1.0</td>\n",
       "    </tr>\n",
       "    <tr>\n",
       "      <th>1</th>\n",
       "      <td>1.0</td>\n",
       "      <td>0.0</td>\n",
       "      <td>1.0</td>\n",
       "      <td>0.0</td>\n",
       "      <td>0.0</td>\n",
       "    </tr>\n",
       "    <tr>\n",
       "      <th>2</th>\n",
       "      <td>0.0</td>\n",
       "      <td>1.0</td>\n",
       "      <td>0.0</td>\n",
       "      <td>0.0</td>\n",
       "      <td>1.0</td>\n",
       "    </tr>\n",
       "    <tr>\n",
       "      <th>3</th>\n",
       "      <td>0.0</td>\n",
       "      <td>1.0</td>\n",
       "      <td>0.0</td>\n",
       "      <td>1.0</td>\n",
       "      <td>0.0</td>\n",
       "    </tr>\n",
       "    <tr>\n",
       "      <th>4</th>\n",
       "      <td>1.0</td>\n",
       "      <td>0.0</td>\n",
       "      <td>0.0</td>\n",
       "      <td>0.0</td>\n",
       "      <td>1.0</td>\n",
       "    </tr>\n",
       "  </tbody>\n",
       "</table>\n",
       "</div>"
      ],
      "text/plain": [
       "   customer_gender_female  customer_gender_male  contract_type_bilateral  \\\n",
       "0                     0.0                   1.0                      0.0   \n",
       "1                     1.0                   0.0                      1.0   \n",
       "2                     0.0                   1.0                      0.0   \n",
       "3                     0.0                   1.0                      0.0   \n",
       "4                     1.0                   0.0                      0.0   \n",
       "\n",
       "   contract_type_implied  contract_type_unit  \n",
       "0                    0.0                 1.0  \n",
       "1                    0.0                 0.0  \n",
       "2                    0.0                 1.0  \n",
       "3                    1.0                 0.0  \n",
       "4                    0.0                 1.0  "
      ]
     },
     "execution_count": 10,
     "metadata": {},
     "output_type": "execute_result"
    }
   ],
   "source": [
    "df2"
   ]
  },
  {
   "cell_type": "code",
   "execution_count": 15,
   "id": "99c986c8-bafb-4e9d-bb73-02f027dd8a6f",
   "metadata": {},
   "outputs": [
    {
     "data": {
      "text/html": [
       "<div>\n",
       "<style scoped>\n",
       "    .dataframe tbody tr th:only-of-type {\n",
       "        vertical-align: middle;\n",
       "    }\n",
       "\n",
       "    .dataframe tbody tr th {\n",
       "        vertical-align: top;\n",
       "    }\n",
       "\n",
       "    .dataframe thead th {\n",
       "        text-align: right;\n",
       "    }\n",
       "</style>\n",
       "<table border=\"1\" class=\"dataframe\">\n",
       "  <thead>\n",
       "    <tr style=\"text-align: right;\">\n",
       "      <th></th>\n",
       "      <th>customer_gender</th>\n",
       "      <th>age</th>\n",
       "      <th>contract_type</th>\n",
       "      <th>monthly_charge</th>\n",
       "      <th>tenure(year)</th>\n",
       "      <th>customer_gender_female</th>\n",
       "      <th>customer_gender_male</th>\n",
       "      <th>contract_type_bilateral</th>\n",
       "      <th>contract_type_implied</th>\n",
       "      <th>contract_type_unit</th>\n",
       "    </tr>\n",
       "  </thead>\n",
       "  <tbody>\n",
       "    <tr>\n",
       "      <th>0</th>\n",
       "      <td>male</td>\n",
       "      <td>25</td>\n",
       "      <td>unit</td>\n",
       "      <td>1200</td>\n",
       "      <td>1</td>\n",
       "      <td>0.0</td>\n",
       "      <td>1.0</td>\n",
       "      <td>0.0</td>\n",
       "      <td>0.0</td>\n",
       "      <td>1.0</td>\n",
       "    </tr>\n",
       "    <tr>\n",
       "      <th>1</th>\n",
       "      <td>female</td>\n",
       "      <td>30</td>\n",
       "      <td>bilateral</td>\n",
       "      <td>1350</td>\n",
       "      <td>2</td>\n",
       "      <td>1.0</td>\n",
       "      <td>0.0</td>\n",
       "      <td>1.0</td>\n",
       "      <td>0.0</td>\n",
       "      <td>0.0</td>\n",
       "    </tr>\n",
       "    <tr>\n",
       "      <th>2</th>\n",
       "      <td>male</td>\n",
       "      <td>29</td>\n",
       "      <td>unit</td>\n",
       "      <td>1100</td>\n",
       "      <td>1</td>\n",
       "      <td>0.0</td>\n",
       "      <td>1.0</td>\n",
       "      <td>0.0</td>\n",
       "      <td>0.0</td>\n",
       "      <td>1.0</td>\n",
       "    </tr>\n",
       "    <tr>\n",
       "      <th>3</th>\n",
       "      <td>male</td>\n",
       "      <td>35</td>\n",
       "      <td>implied</td>\n",
       "      <td>1450</td>\n",
       "      <td>2</td>\n",
       "      <td>0.0</td>\n",
       "      <td>1.0</td>\n",
       "      <td>0.0</td>\n",
       "      <td>1.0</td>\n",
       "      <td>0.0</td>\n",
       "    </tr>\n",
       "    <tr>\n",
       "      <th>4</th>\n",
       "      <td>female</td>\n",
       "      <td>45</td>\n",
       "      <td>unit</td>\n",
       "      <td>2400</td>\n",
       "      <td>1</td>\n",
       "      <td>1.0</td>\n",
       "      <td>0.0</td>\n",
       "      <td>0.0</td>\n",
       "      <td>0.0</td>\n",
       "      <td>1.0</td>\n",
       "    </tr>\n",
       "  </tbody>\n",
       "</table>\n",
       "</div>"
      ],
      "text/plain": [
       "  customer_gender  age contract_type  monthly_charge  tenure(year)  \\\n",
       "0            male   25          unit            1200             1   \n",
       "1          female   30     bilateral            1350             2   \n",
       "2            male   29          unit            1100             1   \n",
       "3            male   35       implied            1450             2   \n",
       "4          female   45          unit            2400             1   \n",
       "\n",
       "   customer_gender_female  customer_gender_male  contract_type_bilateral  \\\n",
       "0                     0.0                   1.0                      0.0   \n",
       "1                     1.0                   0.0                      1.0   \n",
       "2                     0.0                   1.0                      0.0   \n",
       "3                     0.0                   1.0                      0.0   \n",
       "4                     1.0                   0.0                      0.0   \n",
       "\n",
       "   contract_type_implied  contract_type_unit  \n",
       "0                    0.0                 1.0  \n",
       "1                    0.0                 0.0  \n",
       "2                    0.0                 1.0  \n",
       "3                    1.0                 0.0  \n",
       "4                    0.0                 1.0  "
      ]
     },
     "execution_count": 15,
     "metadata": {},
     "output_type": "execute_result"
    }
   ],
   "source": [
    "pd.concat([df,df2],axis=1)"
   ]
  },
  {
   "cell_type": "code",
   "execution_count": null,
   "id": "22bd71d4-dd67-4e9b-8dc8-8fe36d506b2e",
   "metadata": {},
   "outputs": [],
   "source": []
  }
 ],
 "metadata": {
  "kernelspec": {
   "display_name": "Python 3 (ipykernel)",
   "language": "python",
   "name": "python3"
  },
  "language_info": {
   "codemirror_mode": {
    "name": "ipython",
    "version": 3
   },
   "file_extension": ".py",
   "mimetype": "text/x-python",
   "name": "python",
   "nbconvert_exporter": "python",
   "pygments_lexer": "ipython3",
   "version": "3.10.8"
  }
 },
 "nbformat": 4,
 "nbformat_minor": 5
}
