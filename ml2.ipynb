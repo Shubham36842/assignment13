{
 "cells": [
  {
   "cell_type": "raw",
   "id": "d8e7d9d6-5ead-47ff-8ce6-379932946285",
   "metadata": {},
   "source": [
    "Q1: Define overfitting and underfitting in machine learning. What are the consequences of each, and how can they be mitigated?\n"
   ]
  },
  {
   "cell_type": "raw",
   "id": "a99bb321-f099-4ca0-b9df-ffe0f4fe6c62",
   "metadata": {},
   "source": [
    "Ans:\n",
    "Low Bais and high varience-overfitting(trainig accuracy high test accuracy low).Overfitting means that your model makes not accurate predictions.Good performance on the training data, poor generliazation to other data. \n",
    "\n",
    "High bias and high varience-underfitting(Training accuracy low and test accuracy low).Underfitting means that your model makes accurate, but initially incorrect  predictions.Poor performance on the training data and poor generalization to other"
   ]
  },
  {
   "cell_type": "raw",
   "id": "6db4defe-7705-45d5-ab58-a09494b35395",
   "metadata": {},
   "source": [
    "Q2: How can we reduce overfitting? Explain in brief"
   ]
  },
  {
   "cell_type": "raw",
   "id": "03f79aca-c09a-4616-bf20-617cbce28b46",
   "metadata": {},
   "source": [
    "Ans:-\n",
    "1.Increase training data.\n",
    "2.Reduce model complexity.\n",
    "3.Early stopping during the training phase (have an eye over the loss over the training period as soon as loss begins to increase stop training).\n",
    "4.Ridge Regularization and Lasso Regularization.\n",
    "5.Use dropout for neural networks to tackle overfitting."
   ]
  },
  {
   "cell_type": "raw",
   "id": "098a72f6-a530-4e31-be45-7131d7e1fd40",
   "metadata": {},
   "source": [
    "Q3: Explain underfitting. List scenarios where underfitting can occur in ML.\n"
   ]
  },
  {
   "cell_type": "raw",
   "id": "91ccdc3e-b2c8-4ad0-a1c9-51dcb403690c",
   "metadata": {},
   "source": [
    "Ans:-\n",
    "Its occurrence simply means that our model or the algorithm does not fit the data well enough. It usually happens when we have less data to build an accurate model and also when we try to build a linear model with fewer non-linear data.\n",
    "Underfitting occurs when a model is too simple — informed by too few features or regularized too much — which makes it inflexible in learning from the dataset.\n",
    "\n",
    "Underfitting is a scenario in data science where a data model is unable to capture the relationship between the input and output variables accurately, generating a high error rate on both the training set and unseen data."
   ]
  },
  {
   "cell_type": "raw",
   "id": "7e46d759-254b-43ba-a2c4-497315254b3a",
   "metadata": {},
   "source": [
    "Q4: Explain the bias-variance tradeoff in machine learning. What is the relationship between bias and variance, and how do they affect model performance?"
   ]
  },
  {
   "cell_type": "raw",
   "id": "3be5b41d-d7ff-4268-8c70-a4b698fa141b",
   "metadata": {},
   "source": [
    "Ans:\n",
    "Bias and variance are complements of each other,The increase of one will result in the decrease of the other and vice versa. Hence, finding the right balance of values is known as the Bias-Variance Tradeoff. Target Function. An ideal algorithm should neither underfit nor overfit the data.\n",
    "\n",
    "Low bais and Low vaience model have high performance"
   ]
  },
  {
   "cell_type": "raw",
   "id": "91b20530-d152-4be9-81c2-71abceff785c",
   "metadata": {},
   "source": [
    "Q5: Discuss some common methods for detecting overfitting and underfitting in machine learning models. How can you determine whether your model is overfitting or underfitting?\n"
   ]
  },
  {
   "cell_type": "raw",
   "id": "fbb54652-0f04-4351-99f2-1cb647da7f47",
   "metadata": {},
   "source": [
    "Ans:-\n",
    "Low Bais and high varience-overfitting(trainig accuracy high test accuracy low)\n",
    "\n",
    "High bias and high varience-underfitting(Training accuracy low and test accuracy low)\n",
    "\n",
    "The best method to detect overfit models is by testing the machine learning models on more data with with comprehensive representation of possible input data values and types. Typically, part of the training data is used as test data to check for overfitting. A high error rate in the testing data indicates overfitting."
   ]
  },
  {
   "cell_type": "raw",
   "id": "3d51fbe3-ba7b-4059-9ceb-7f4206df6956",
   "metadata": {},
   "source": [
    "Q6: Compare and contrast bias and variance in machine learning. What are some examples of high bias and high variance models, and how do they differ in terms of their performance?\n"
   ]
  },
  {
   "cell_type": "raw",
   "id": "5bea723c-f69f-45d4-bd1f-8f9bee8ec79a",
   "metadata": {},
   "source": [
    "Ans:-\n",
    "High Bias - Low Variance (Underfitting): Predictions are consistent, but inaccurate on average. This can happen when the model uses very few parameters. High Bias - High Variance: Predictions are inconsistent and inaccurate on average. \n",
    "\n",
    "Some examples of machine learning algorithms with  high bias  and high varience are \n",
    "Linear Regression, Linear Discriminant Analysis and Logistic Regression\n",
    "\n",
    "Low Bias - Low Variance: It is an ideal model. have high performance\n",
    "\n",
    "\n",
    "Logistic regression was a better predictor of at least 78% of the observations in all four data sets."
   ]
  },
  {
   "cell_type": "raw",
   "id": "0e8fe69a-879a-4697-b329-6f4e5e8352b2",
   "metadata": {},
   "source": [
    "Q7: What is regularization in machine learning, and how can it be used to prevent overfitting? Describe some common regularization techniques and how they work."
   ]
  },
  {
   "cell_type": "raw",
   "id": "a81e2428-09db-4212-bbd6-5c9550b96f37",
   "metadata": {},
   "source": [
    "Ans:-\n",
    "Regularization is a technique used to reduce errors by fitting the function appropriately on the given training set and avoiding overfitting. The commonly used regularization techniques are : \n",
    "1.Lasso Regularization – L1 Regularization\n",
    "2.Ridge Regularization – L2 Regularization\n",
    "3.Elastic Net Regularization – L1 and L2 Regularization"
   ]
  }
 ],
 "metadata": {
  "kernelspec": {
   "display_name": "Python 3 (ipykernel)",
   "language": "python",
   "name": "python3"
  },
  "language_info": {
   "codemirror_mode": {
    "name": "ipython",
    "version": 3
   },
   "file_extension": ".py",
   "mimetype": "text/x-python",
   "name": "python",
   "nbconvert_exporter": "python",
   "pygments_lexer": "ipython3",
   "version": "3.10.8"
  }
 },
 "nbformat": 4,
 "nbformat_minor": 5
}
